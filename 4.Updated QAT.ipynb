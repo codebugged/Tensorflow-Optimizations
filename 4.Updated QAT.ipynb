{
  "nbformat": 4,
  "nbformat_minor": 0,
  "metadata": {
    "accelerator": "GPU",
    "colab": {
      "name": "Quantization_Aware_Training.ipynb",
      "provenance": [],
      "collapsed_sections": [],
      "toc_visible": true
    },
    "kernelspec": {
      "display_name": "Python 3",
      "name": "python3"
    },
    "language_info": {
      "name": "python"
    }
  },
  "cells": [
    {
      "cell_type": "code",
      "metadata": {
        "colab": {
          "base_uri": "https://localhost:8080/"
        },
        "id": "wgXcu1c4prME",
        "outputId": "d7ddece3-4823-4759-b387-6e28ba0a37d6"
      },
      "source": [
        "from google.colab import drive\n",
        "drive.mount('/content/drive')"
      ],
      "execution_count": 2,
      "outputs": [
        {
          "output_type": "stream",
          "text": [
            "Mounted at /content/drive\n"
          ],
          "name": "stdout"
        }
      ]
    },
    {
      "cell_type": "code",
      "metadata": {
        "colab": {
          "base_uri": "https://localhost:8080/"
        },
        "id": "MWkwmc1UbSlW",
        "outputId": "c1586213-8731-4865-868d-797ea71cf0dd"
      },
      "source": [
        "!nvidia-smi"
      ],
      "execution_count": 1,
      "outputs": [
        {
          "output_type": "stream",
          "text": [
            "Tue Jun  1 18:19:10 2021       \n",
            "+-----------------------------------------------------------------------------+\n",
            "| NVIDIA-SMI 465.19.01    Driver Version: 460.32.03    CUDA Version: 11.2     |\n",
            "|-------------------------------+----------------------+----------------------+\n",
            "| GPU  Name        Persistence-M| Bus-Id        Disp.A | Volatile Uncorr. ECC |\n",
            "| Fan  Temp  Perf  Pwr:Usage/Cap|         Memory-Usage | GPU-Util  Compute M. |\n",
            "|                               |                      |               MIG M. |\n",
            "|===============================+======================+======================|\n",
            "|   0  Tesla T4            Off  | 00000000:00:04.0 Off |                    0 |\n",
            "| N/A   56C    P8    10W /  70W |      0MiB / 15109MiB |      0%      Default |\n",
            "|                               |                      |                  N/A |\n",
            "+-------------------------------+----------------------+----------------------+\n",
            "                                                                               \n",
            "+-----------------------------------------------------------------------------+\n",
            "| Processes:                                                                  |\n",
            "|  GPU   GI   CI        PID   Type   Process name                  GPU Memory |\n",
            "|        ID   ID                                                   Usage      |\n",
            "|=============================================================================|\n",
            "|  No running processes found                                                 |\n",
            "+-----------------------------------------------------------------------------+\n"
          ],
          "name": "stdout"
        }
      ]
    },
    {
      "cell_type": "code",
      "metadata": {
        "colab": {
          "base_uri": "https://localhost:8080/"
        },
        "id": "ARmFWwk9qLyk",
        "outputId": "3e6b343f-6842-49df-a363-ed8687d5e714"
      },
      "source": [
        "ls"
      ],
      "execution_count": 3,
      "outputs": [
        {
          "output_type": "stream",
          "text": [
            "\u001b[0m\u001b[01;34mdrive\u001b[0m/  \u001b[01;34msample_data\u001b[0m/\n"
          ],
          "name": "stdout"
        }
      ]
    },
    {
      "cell_type": "code",
      "metadata": {
        "colab": {
          "base_uri": "https://localhost:8080/"
        },
        "id": "gMyr2dC4qM8M",
        "outputId": "54f65135-a5d0-4f5f-95ed-e34142c37b8d"
      },
      "source": [
        "cd drive/MyDrive/"
      ],
      "execution_count": 4,
      "outputs": [
        {
          "output_type": "stream",
          "text": [
            "/content/drive/MyDrive\n"
          ],
          "name": "stdout"
        }
      ]
    },
    {
      "cell_type": "code",
      "metadata": {
        "colab": {
          "base_uri": "https://localhost:8080/"
        },
        "id": "TFGvEnHWqO-h",
        "outputId": "5ed1d7ea-ac81-48fa-b046-6bd13da2187c"
      },
      "source": [
        "ls"
      ],
      "execution_count": 5,
      "outputs": [
        {
          "output_type": "stream",
          "text": [
            " 0002cc93b.jpg.txt                  \u001b[0m\u001b[01;34mmalikbhai\u001b[0m/   \u001b[01;34mPTQ\u001b[0m/      \u001b[01;34mvideo_class\u001b[0m/\n",
            "\u001b[01;34m'Codebugged Official Repository'\u001b[0m/   \u001b[01;34mMRV\u001b[0m/         \u001b[01;34mQAT\u001b[0m/      \u001b[01;34mYOLO\u001b[0m/\n",
            "\u001b[01;34m'Colab Notebooks'\u001b[0m/                  \u001b[01;34mNVIDIA\u001b[0m/      \u001b[01;34mTRT-OP\u001b[0m/\n"
          ],
          "name": "stdout"
        }
      ]
    },
    {
      "cell_type": "code",
      "metadata": {
        "id": "gZ7mc1oCqQek",
        "colab": {
          "base_uri": "https://localhost:8080/"
        },
        "outputId": "549caba2-7c0e-4e95-88a2-5f65c4843284"
      },
      "source": [
        "mkdir QAT"
      ],
      "execution_count": 8,
      "outputs": [
        {
          "output_type": "stream",
          "text": [
            "mkdir: cannot create directory ‘QAT’: File exists\n"
          ],
          "name": "stdout"
        }
      ]
    },
    {
      "cell_type": "code",
      "metadata": {
        "colab": {
          "base_uri": "https://localhost:8080/"
        },
        "id": "eBrT3kD_qToU",
        "outputId": "991febf2-afc1-449f-ea3b-dfb9a64740c5"
      },
      "source": [
        "cd QAT"
      ],
      "execution_count": 6,
      "outputs": [
        {
          "output_type": "stream",
          "text": [
            "/content/drive/MyDrive/QAT\n"
          ],
          "name": "stdout"
        }
      ]
    },
    {
      "cell_type": "markdown",
      "metadata": {
        "id": "nXb-CReC1iw7"
      },
      "source": [
        "## Installing Necessary Libraries\n",
        "\n",
        "### TF-Nightly - A version of tensorflow resolving build failure"
      ]
    },
    {
      "cell_type": "code",
      "metadata": {
        "colab": {
          "base_uri": "https://localhost:8080/"
        },
        "id": "gjc81l8_bc1J",
        "outputId": "88d1ec44-cc82-47b5-b507-c5e440081335"
      },
      "source": [
        "!pip uninstall tensorflow\n",
        "!pip install tf-nightly\n",
        "!pip install tensorflow-model-optimization"
      ],
      "execution_count": 7,
      "outputs": [
        {
          "output_type": "stream",
          "text": [
            "Uninstalling tensorflow-2.5.0:\n",
            "  Would remove:\n",
            "    /usr/local/bin/estimator_ckpt_converter\n",
            "    /usr/local/bin/import_pb_to_tensorboard\n",
            "    /usr/local/bin/saved_model_cli\n",
            "    /usr/local/bin/tensorboard\n",
            "    /usr/local/bin/tf_upgrade_v2\n",
            "    /usr/local/bin/tflite_convert\n",
            "    /usr/local/bin/toco\n",
            "    /usr/local/bin/toco_from_protos\n",
            "    /usr/local/lib/python3.7/dist-packages/tensorflow-2.5.0.dist-info/*\n",
            "    /usr/local/lib/python3.7/dist-packages/tensorflow/*\n",
            "Proceed (y/n)? y\n",
            "  Successfully uninstalled tensorflow-2.5.0\n",
            "Collecting tf-nightly\n",
            "\u001b[?25l  Downloading https://files.pythonhosted.org/packages/e0/c1/b45357b671eb1bd99e5c83f5275e4a25569a79cb8854ac8b162ff0f35b4a/tf_nightly-2.6.0.dev20210601-cp37-cp37m-manylinux2010_x86_64.whl (454.4MB)\n",
            "\u001b[K     |████████████████████████████████| 454.4MB 37kB/s \n",
            "\u001b[?25hRequirement already satisfied: google-pasta~=0.2 in /usr/local/lib/python3.7/dist-packages (from tf-nightly) (0.2.0)\n",
            "Requirement already satisfied: typing-extensions~=3.7.4 in /usr/local/lib/python3.7/dist-packages (from tf-nightly) (3.7.4.3)\n",
            "Requirement already satisfied: protobuf>=3.9.2 in /usr/local/lib/python3.7/dist-packages (from tf-nightly) (3.12.4)\n",
            "Requirement already satisfied: absl-py~=0.10 in /usr/local/lib/python3.7/dist-packages (from tf-nightly) (0.12.0)\n",
            "Collecting tb-nightly~=2.6.0.a\n",
            "\u001b[?25l  Downloading https://files.pythonhosted.org/packages/81/b2/1a9ee0a7356ec6d9341798f4829d41bdd5833ad60d88998fd9c5010c645b/tb_nightly-2.6.0a20210601-py3-none-any.whl (5.9MB)\n",
            "\u001b[K     |████████████████████████████████| 5.9MB 29.2MB/s \n",
            "\u001b[?25hRequirement already satisfied: opt-einsum~=3.3.0 in /usr/local/lib/python3.7/dist-packages (from tf-nightly) (3.3.0)\n",
            "Requirement already satisfied: wheel~=0.35 in /usr/local/lib/python3.7/dist-packages (from tf-nightly) (0.36.2)\n",
            "Requirement already satisfied: wrapt~=1.12.1 in /usr/local/lib/python3.7/dist-packages (from tf-nightly) (1.12.1)\n",
            "Requirement already satisfied: flatbuffers~=1.12.0 in /usr/local/lib/python3.7/dist-packages (from tf-nightly) (1.12)\n",
            "Collecting keras-nightly~=2.6.0.dev\n",
            "\u001b[?25l  Downloading https://files.pythonhosted.org/packages/2d/17/0fc49d1ab34a47e5304f8c41850225336efdf5315ec7088a670040f49d23/keras_nightly-2.6.0.dev2021052700-py2.py3-none-any.whl (1.3MB)\n",
            "\u001b[K     |████████████████████████████████| 1.3MB 41.5MB/s \n",
            "\u001b[?25hRequirement already satisfied: astunparse~=1.6.3 in /usr/local/lib/python3.7/dist-packages (from tf-nightly) (1.6.3)\n",
            "Collecting grpcio<2.0,>=1.37.0\n",
            "\u001b[?25l  Downloading https://files.pythonhosted.org/packages/21/af/ecae3a21bed5a92c9d866480553efea18a39f103546108cd60f5ea6a2494/grpcio-1.38.0-cp37-cp37m-manylinux2014_x86_64.whl (4.2MB)\n",
            "\u001b[K     |████████████████████████████████| 4.2MB 31.0MB/s \n",
            "\u001b[?25hRequirement already satisfied: h5py~=3.1.0 in /usr/local/lib/python3.7/dist-packages (from tf-nightly) (3.1.0)\n",
            "Requirement already satisfied: six~=1.15.0 in /usr/local/lib/python3.7/dist-packages (from tf-nightly) (1.15.0)\n",
            "Requirement already satisfied: keras-preprocessing~=1.1.2 in /usr/local/lib/python3.7/dist-packages (from tf-nightly) (1.1.2)\n",
            "Requirement already satisfied: numpy~=1.19.2 in /usr/local/lib/python3.7/dist-packages (from tf-nightly) (1.19.5)\n",
            "Requirement already satisfied: termcolor~=1.1.0 in /usr/local/lib/python3.7/dist-packages (from tf-nightly) (1.1.0)\n",
            "Collecting tf-estimator-nightly~=2.5.0.dev\n",
            "\u001b[?25l  Downloading https://files.pythonhosted.org/packages/24/6c/9bf4a6004d18c8e543845d3416e50f36dd09d272161e2fb0db5678132dfd/tf_estimator_nightly-2.5.0.dev2021032601-py2.py3-none-any.whl (462kB)\n",
            "\u001b[K     |████████████████████████████████| 471kB 44.4MB/s \n",
            "\u001b[?25hRequirement already satisfied: gast==0.4.0 in /usr/local/lib/python3.7/dist-packages (from tf-nightly) (0.4.0)\n",
            "Requirement already satisfied: setuptools in /usr/local/lib/python3.7/dist-packages (from protobuf>=3.9.2->tf-nightly) (56.1.0)\n",
            "Requirement already satisfied: tensorboard-plugin-wit>=1.6.0 in /usr/local/lib/python3.7/dist-packages (from tb-nightly~=2.6.0.a->tf-nightly) (1.8.0)\n",
            "Requirement already satisfied: tensorboard-data-server<0.7.0,>=0.6.0 in /usr/local/lib/python3.7/dist-packages (from tb-nightly~=2.6.0.a->tf-nightly) (0.6.1)\n",
            "Requirement already satisfied: werkzeug>=0.11.15 in /usr/local/lib/python3.7/dist-packages (from tb-nightly~=2.6.0.a->tf-nightly) (1.0.1)\n",
            "Requirement already satisfied: google-auth-oauthlib<0.5,>=0.4.1 in /usr/local/lib/python3.7/dist-packages (from tb-nightly~=2.6.0.a->tf-nightly) (0.4.4)\n",
            "Requirement already satisfied: google-auth<2,>=1.6.3 in /usr/local/lib/python3.7/dist-packages (from tb-nightly~=2.6.0.a->tf-nightly) (1.30.0)\n",
            "Requirement already satisfied: markdown>=2.6.8 in /usr/local/lib/python3.7/dist-packages (from tb-nightly~=2.6.0.a->tf-nightly) (3.3.4)\n",
            "Requirement already satisfied: requests<3,>=2.21.0 in /usr/local/lib/python3.7/dist-packages (from tb-nightly~=2.6.0.a->tf-nightly) (2.23.0)\n",
            "Requirement already satisfied: cached-property; python_version < \"3.8\" in /usr/local/lib/python3.7/dist-packages (from h5py~=3.1.0->tf-nightly) (1.5.2)\n",
            "Requirement already satisfied: requests-oauthlib>=0.7.0 in /usr/local/lib/python3.7/dist-packages (from google-auth-oauthlib<0.5,>=0.4.1->tb-nightly~=2.6.0.a->tf-nightly) (1.3.0)\n",
            "Requirement already satisfied: rsa<5,>=3.1.4; python_version >= \"3.6\" in /usr/local/lib/python3.7/dist-packages (from google-auth<2,>=1.6.3->tb-nightly~=2.6.0.a->tf-nightly) (4.7.2)\n",
            "Requirement already satisfied: pyasn1-modules>=0.2.1 in /usr/local/lib/python3.7/dist-packages (from google-auth<2,>=1.6.3->tb-nightly~=2.6.0.a->tf-nightly) (0.2.8)\n",
            "Requirement already satisfied: cachetools<5.0,>=2.0.0 in /usr/local/lib/python3.7/dist-packages (from google-auth<2,>=1.6.3->tb-nightly~=2.6.0.a->tf-nightly) (4.2.2)\n",
            "Requirement already satisfied: importlib-metadata; python_version < \"3.8\" in /usr/local/lib/python3.7/dist-packages (from markdown>=2.6.8->tb-nightly~=2.6.0.a->tf-nightly) (4.0.1)\n",
            "Requirement already satisfied: chardet<4,>=3.0.2 in /usr/local/lib/python3.7/dist-packages (from requests<3,>=2.21.0->tb-nightly~=2.6.0.a->tf-nightly) (3.0.4)\n",
            "Requirement already satisfied: certifi>=2017.4.17 in /usr/local/lib/python3.7/dist-packages (from requests<3,>=2.21.0->tb-nightly~=2.6.0.a->tf-nightly) (2020.12.5)\n",
            "Requirement already satisfied: urllib3!=1.25.0,!=1.25.1,<1.26,>=1.21.1 in /usr/local/lib/python3.7/dist-packages (from requests<3,>=2.21.0->tb-nightly~=2.6.0.a->tf-nightly) (1.24.3)\n",
            "Requirement already satisfied: idna<3,>=2.5 in /usr/local/lib/python3.7/dist-packages (from requests<3,>=2.21.0->tb-nightly~=2.6.0.a->tf-nightly) (2.10)\n",
            "Requirement already satisfied: oauthlib>=3.0.0 in /usr/local/lib/python3.7/dist-packages (from requests-oauthlib>=0.7.0->google-auth-oauthlib<0.5,>=0.4.1->tb-nightly~=2.6.0.a->tf-nightly) (3.1.0)\n",
            "Requirement already satisfied: pyasn1>=0.1.3 in /usr/local/lib/python3.7/dist-packages (from rsa<5,>=3.1.4; python_version >= \"3.6\"->google-auth<2,>=1.6.3->tb-nightly~=2.6.0.a->tf-nightly) (0.4.8)\n",
            "Requirement already satisfied: zipp>=0.5 in /usr/local/lib/python3.7/dist-packages (from importlib-metadata; python_version < \"3.8\"->markdown>=2.6.8->tb-nightly~=2.6.0.a->tf-nightly) (3.4.1)\n",
            "Installing collected packages: grpcio, tb-nightly, keras-nightly, tf-estimator-nightly, tf-nightly\n",
            "  Found existing installation: grpcio 1.34.1\n",
            "    Uninstalling grpcio-1.34.1:\n",
            "      Successfully uninstalled grpcio-1.34.1\n",
            "  Found existing installation: keras-nightly 2.5.0.dev2021032900\n",
            "    Uninstalling keras-nightly-2.5.0.dev2021032900:\n",
            "      Successfully uninstalled keras-nightly-2.5.0.dev2021032900\n",
            "Successfully installed grpcio-1.38.0 keras-nightly-2.6.0.dev2021052700 tb-nightly-2.6.0a20210601 tf-estimator-nightly-2.5.0.dev2021032601 tf-nightly-2.6.0.dev20210601\n",
            "Collecting tensorflow-model-optimization\n",
            "\u001b[?25l  Downloading https://files.pythonhosted.org/packages/55/38/4fd48ea1bfcb0b6e36d949025200426fe9c3a8bfae029f0973d85518fa5a/tensorflow_model_optimization-0.5.0-py2.py3-none-any.whl (172kB)\n",
            "\u001b[K     |████████████████████████████████| 174kB 6.9MB/s \n",
            "\u001b[?25hRequirement already satisfied: six~=1.10 in /usr/local/lib/python3.7/dist-packages (from tensorflow-model-optimization) (1.15.0)\n",
            "Requirement already satisfied: dm-tree~=0.1.1 in /usr/local/lib/python3.7/dist-packages (from tensorflow-model-optimization) (0.1.6)\n",
            "Requirement already satisfied: numpy~=1.14 in /usr/local/lib/python3.7/dist-packages (from tensorflow-model-optimization) (1.19.5)\n",
            "Installing collected packages: tensorflow-model-optimization\n",
            "Successfully installed tensorflow-model-optimization-0.5.0\n"
          ],
          "name": "stdout"
        }
      ]
    },
    {
      "cell_type": "code",
      "metadata": {
        "colab": {
          "base_uri": "https://localhost:8080/"
        },
        "id": "JqBkIqcAdNhF",
        "outputId": "91a62b66-f28b-4bc6-bc6b-ea9ca3c7a3bb"
      },
      "source": [
        "#Data Gathering from Google API \n",
        "!wget https://storage.googleapis.com/laurencemoroney-blog.appspot.com/rps.zip \n",
        "!wget https://storage.googleapis.com/laurencemoroney-blog.appspot.com/rps-test-set.zip"
      ],
      "execution_count": null,
      "outputs": [
        {
          "output_type": "stream",
          "text": [
            "--2021-05-30 19:05:47--  https://storage.googleapis.com/laurencemoroney-blog.appspot.com/rps.zip\n",
            "Resolving storage.googleapis.com (storage.googleapis.com)... 74.125.20.128, 108.177.98.128, 74.125.197.128, ...\n",
            "Connecting to storage.googleapis.com (storage.googleapis.com)|74.125.20.128|:443... connected.\n",
            "HTTP request sent, awaiting response... 200 OK\n",
            "Length: 200682221 (191M) [application/zip]\n",
            "Saving to: ‘rps.zip’\n",
            "\n",
            "rps.zip             100%[===================>] 191.38M  61.4MB/s    in 3.1s    \n",
            "\n",
            "2021-05-30 19:05:50 (61.4 MB/s) - ‘rps.zip’ saved [200682221/200682221]\n",
            "\n",
            "--2021-05-30 19:05:50--  https://storage.googleapis.com/laurencemoroney-blog.appspot.com/rps-test-set.zip\n",
            "Resolving storage.googleapis.com (storage.googleapis.com)... 74.125.199.128, 74.125.142.128, 74.125.195.128, ...\n",
            "Connecting to storage.googleapis.com (storage.googleapis.com)|74.125.199.128|:443... connected.\n",
            "HTTP request sent, awaiting response... 200 OK\n",
            "Length: 29516758 (28M) [application/zip]\n",
            "Saving to: ‘rps-test-set.zip’\n",
            "\n",
            "rps-test-set.zip    100%[===================>]  28.15M  58.7MB/s    in 0.5s    \n",
            "\n",
            "2021-05-30 19:05:51 (58.7 MB/s) - ‘rps-test-set.zip’ saved [29516758/29516758]\n",
            "\n"
          ],
          "name": "stdout"
        }
      ]
    },
    {
      "cell_type": "code",
      "metadata": {
        "id": "MSJZ_DuEdQfg"
      },
      "source": [
        "!unzip -q rps.zip\n",
        "!unzip -qq rps-test-set.zip"
      ],
      "execution_count": null,
      "outputs": []
    },
    {
      "cell_type": "code",
      "metadata": {
        "colab": {
          "base_uri": "https://localhost:8080/"
        },
        "id": "9eQ9UDv0dSr_",
        "outputId": "21da5dc2-be3c-48ec-dc46-4afd9c9162c9"
      },
      "source": [
        "from imutils import paths\n",
        "from pprint import pprint\n",
        "from collections import Counter\n",
        "import tensorflow as tf\n",
        "from tensorflow.keras.models import Sequential\n",
        "from tensorflow.keras.layers import *\n",
        "from tensorflow.keras.utils import plot_model\n",
        "import tensorflow_model_optimization as tfmot\n",
        "import re \n",
        "\n",
        "import os\n",
        "from sys import getsizeof\n",
        "import pandas as pd\n",
        "import matplotlib.pyplot as plt\n",
        "import matplotlib.image as mpimg\n",
        "import seaborn as sns\n",
        "from sklearn.metrics import accuracy_score\n",
        "from sys import getsizeof\n",
        "\n",
        "import numpy as np\n",
        "np.random.seed(42)\n",
        "\n",
        "\n",
        "print(tf.__version__)"
      ],
      "execution_count": 8,
      "outputs": [
        {
          "output_type": "stream",
          "text": [
            "2.6.0-dev20210601\n"
          ],
          "name": "stdout"
        }
      ]
    },
    {
      "cell_type": "code",
      "metadata": {
        "id": "MrwKNJPQdVER"
      },
      "source": [
        "def get_file_size(file_path):\n",
        "    size = os.path.getsize(file_path)\n",
        "    return size\n",
        "\n",
        "def convert_bytes(size, unit=None):\n",
        "    if unit == \"KB\":\n",
        "        return print('File Size: ' + str(round(size/1024, 3)) + 'Kilobytes')\n",
        "    elif unit == 'MB':\n",
        "        return print('File Size: ' + str(round(size/(1024*1024), 3)) + 'Megabytes')\n",
        "    else:\n",
        "        return print('File Size: ' + str(size) + 'bytes')"
      ],
      "execution_count": 9,
      "outputs": []
    },
    {
      "cell_type": "code",
      "metadata": {
        "id": "_uie-8xtdXqD"
      },
      "source": [
        "train_dir='rps/'\n",
        "test_dir='rps-test-set/'"
      ],
      "execution_count": 10,
      "outputs": []
    },
    {
      "cell_type": "code",
      "metadata": {
        "colab": {
          "base_uri": "https://localhost:8080/"
        },
        "id": "mqlSW5zJdask",
        "outputId": "f146f260-1c28-48a2-9ac4-3ee101ca36eb"
      },
      "source": [
        "image_paths = list(paths.list_images(\"rps\"))\n",
        "np.random.shuffle(image_paths)\n",
        "image_paths[:5]"
      ],
      "execution_count": 11,
      "outputs": [
        {
          "output_type": "execute_result",
          "data": {
            "text/plain": [
              "['rps/scissors/scissors02-076.png',\n",
              " 'rps/rock/rock02-026.png',\n",
              " 'rps/rock/rock03-010.png',\n",
              " 'rps/scissors/scissors04-027.png',\n",
              " 'rps/paper/paper05-061.png']"
            ]
          },
          "metadata": {
            "tags": []
          },
          "execution_count": 11
        }
      ]
    },
    {
      "cell_type": "code",
      "metadata": {
        "colab": {
          "base_uri": "https://localhost:8080/"
        },
        "id": "wEtD1Gu6dc6_",
        "outputId": "ba676ba4-4eb6-4dd0-db38-ee6c715c88b9"
      },
      "source": [
        "#Counting images per class\n",
        "labels = []\n",
        "for image_path in image_paths:\n",
        "    label = image_path.split(\"/\")[1]\n",
        "    labels.append(label)\n",
        "class_count = Counter(labels) \n",
        "pprint(class_count)"
      ],
      "execution_count": 12,
      "outputs": [
        {
          "output_type": "stream",
          "text": [
            "Counter({'scissors': 840, 'rock': 840, 'paper': 840})\n"
          ],
          "name": "stdout"
        }
      ]
    },
    {
      "cell_type": "code",
      "metadata": {
        "id": "u4GMV8oNdfCA"
      },
      "source": [
        "#Defining Hyperparameters\n",
        "BATCH_SIZE = 128\n",
        "EPOCHS = 20\n",
        "IMG_SIZE = 150\n",
        "NUM_CLASSES=3"
      ],
      "execution_count": 13,
      "outputs": []
    },
    {
      "cell_type": "code",
      "metadata": {
        "colab": {
          "base_uri": "https://localhost:8080/"
        },
        "id": "H5LntKRldgrr",
        "outputId": "cc61dd2b-e36a-481b-81cd-02e6c4f27596"
      },
      "source": [
        "training_datagen = tf.keras.preprocessing.image.ImageDataGenerator(\n",
        "      rescale = 1./255,\n",
        "\t    rotation_range=40,\n",
        "      width_shift_range=0.2,\n",
        "      height_shift_range=0.2,\n",
        "      shear_range=0.2,\n",
        "      zoom_range=0.2,\n",
        "      horizontal_flip=True,\n",
        "      vertical_flip=True,\n",
        "      fill_mode='nearest')\n",
        "\n",
        "\n",
        "validation_datagen = tf.keras.preprocessing.image.ImageDataGenerator(rescale = 1./255)\n",
        "\n",
        "train_generator = training_datagen.flow_from_directory(\n",
        "\ttrain_dir,\n",
        "\ttarget_size=(IMG_SIZE,IMG_SIZE),\n",
        "\tclass_mode='categorical',\n",
        "    batch_size=BATCH_SIZE\n",
        ")\n",
        "\n",
        "validation_generator = validation_datagen.flow_from_directory(\n",
        "\ttest_dir,\n",
        "\ttarget_size=(IMG_SIZE,IMG_SIZE),\n",
        "\tclass_mode='categorical',\n",
        "    batch_size=BATCH_SIZE\n",
        ")"
      ],
      "execution_count": 14,
      "outputs": [
        {
          "output_type": "stream",
          "text": [
            "Found 2520 images belonging to 3 classes.\n",
            "Found 372 images belonging to 3 classes.\n"
          ],
          "name": "stdout"
        }
      ]
    },
    {
      "cell_type": "code",
      "metadata": {
        "colab": {
          "base_uri": "https://localhost:8080/"
        },
        "id": "hysiXIqpdifC",
        "outputId": "23078f31-1636-4bfb-e04a-d665d5b1231f"
      },
      "source": [
        "train_generator.class_indices"
      ],
      "execution_count": 15,
      "outputs": [
        {
          "output_type": "execute_result",
          "data": {
            "text/plain": [
              "{'paper': 0, 'rock': 1, 'scissors': 2}"
            ]
          },
          "metadata": {
            "tags": []
          },
          "execution_count": 15
        }
      ]
    },
    {
      "cell_type": "code",
      "metadata": {
        "id": "nISiM7Ildk5H"
      },
      "source": [
        "#Defining the model\n",
        "def training_model():\n",
        "    model = Sequential([\n",
        "        tf.keras.layers.Conv2D(64, (3,3), activation='relu', input_shape=(150, 150, 3)),\n",
        "        tf.keras.layers.MaxPooling2D(2, 2),\n",
        "        # The second convolution\n",
        "        tf.keras.layers.Conv2D(64, (3,3), activation='relu'),\n",
        "        tf.keras.layers.MaxPooling2D(2,2),\n",
        "        # The third convolution\n",
        "        tf.keras.layers.Conv2D(128, (3,3), activation='relu'),\n",
        "        tf.keras.layers.MaxPooling2D(2,2),\n",
        "        # The fourth convolution\n",
        "        tf.keras.layers.Conv2D(128, (3,3), activation='relu'),\n",
        "        tf.keras.layers.MaxPooling2D(2,2),\n",
        "        # Flatten the results to feed into a DNN\n",
        "        tf.keras.layers.Flatten(),\n",
        "        tf.keras.layers.Dropout(0.5),\n",
        "        # 512 neuron hidden layer\n",
        "        tf.keras.layers.Dense(512, activation='relu'),\n",
        "        tf.keras.layers.Dense(NUM_CLASSES, activation='softmax')                       \n",
        "    ])\n",
        "    return model"
      ],
      "execution_count": 16,
      "outputs": []
    },
    {
      "cell_type": "code",
      "metadata": {
        "colab": {
          "base_uri": "https://localhost:8080/"
        },
        "id": "23dvT4RLdmfP",
        "outputId": "bfcc36b9-7955-4608-d281-60f4156ade70"
      },
      "source": [
        "model = training_model()\n",
        "model.summary()"
      ],
      "execution_count": 21,
      "outputs": [
        {
          "output_type": "stream",
          "text": [
            "Model: \"sequential\"\n",
            "_________________________________________________________________\n",
            "Layer (type)                 Output Shape              Param #   \n",
            "=================================================================\n",
            "conv2d (Conv2D)              (None, 148, 148, 64)      1792      \n",
            "_________________________________________________________________\n",
            "max_pooling2d (MaxPooling2D) (None, 74, 74, 64)        0         \n",
            "_________________________________________________________________\n",
            "conv2d_1 (Conv2D)            (None, 72, 72, 64)        36928     \n",
            "_________________________________________________________________\n",
            "max_pooling2d_1 (MaxPooling2 (None, 36, 36, 64)        0         \n",
            "_________________________________________________________________\n",
            "conv2d_2 (Conv2D)            (None, 34, 34, 128)       73856     \n",
            "_________________________________________________________________\n",
            "max_pooling2d_2 (MaxPooling2 (None, 17, 17, 128)       0         \n",
            "_________________________________________________________________\n",
            "conv2d_3 (Conv2D)            (None, 15, 15, 128)       147584    \n",
            "_________________________________________________________________\n",
            "max_pooling2d_3 (MaxPooling2 (None, 7, 7, 128)         0         \n",
            "_________________________________________________________________\n",
            "flatten (Flatten)            (None, 6272)              0         \n",
            "_________________________________________________________________\n",
            "dropout (Dropout)            (None, 6272)              0         \n",
            "_________________________________________________________________\n",
            "dense (Dense)                (None, 512)               3211776   \n",
            "_________________________________________________________________\n",
            "dense_1 (Dense)              (None, 3)                 1539      \n",
            "=================================================================\n",
            "Total params: 3,473,475\n",
            "Trainable params: 3,473,475\n",
            "Non-trainable params: 0\n",
            "_________________________________________________________________\n"
          ],
          "name": "stdout"
        }
      ]
    },
    {
      "cell_type": "markdown",
      "metadata": {
        "id": "OeGUBTRrB0Yg"
      },
      "source": [
        "### Compiling and training the Baseline Model"
      ]
    },
    {
      "cell_type": "code",
      "metadata": {
        "colab": {
          "base_uri": "https://localhost:8080/"
        },
        "id": "sisgfz4NdoBa",
        "outputId": "b66b6313-5992-4e17-fdfa-9ebd66e5edae"
      },
      "source": [
        "#Compile the Model\n",
        "model.compile(loss = 'categorical_crossentropy', optimizer='rmsprop', metrics=['accuracy'])\n",
        "\n",
        "#Train the Model\n",
        "history = model.fit(train_generator, epochs=EPOCHS, validation_data = validation_generator, validation_steps=3, batch_size=BATCH_SIZE)"
      ],
      "execution_count": null,
      "outputs": [
        {
          "output_type": "stream",
          "text": [
            "Epoch 1/20\n",
            "20/20 [==============================] - 158s 8s/step - loss: 1.3244 - accuracy: 0.3381 - val_loss: 1.0780 - val_accuracy: 0.4839\n",
            "Epoch 2/20\n",
            "20/20 [==============================] - 154s 8s/step - loss: 1.1145 - accuracy: 0.3726 - val_loss: 1.0640 - val_accuracy: 0.4113\n",
            "Epoch 3/20\n",
            "20/20 [==============================] - 150s 7s/step - loss: 1.1020 - accuracy: 0.4071 - val_loss: 1.0900 - val_accuracy: 0.3387\n",
            "Epoch 4/20\n",
            "20/20 [==============================] - 149s 7s/step - loss: 1.0655 - accuracy: 0.4389 - val_loss: 1.0041 - val_accuracy: 0.5645\n",
            "Epoch 5/20\n",
            "20/20 [==============================] - 149s 7s/step - loss: 1.0456 - accuracy: 0.4901 - val_loss: 1.0005 - val_accuracy: 0.5081\n",
            "Epoch 6/20\n",
            "20/20 [==============================] - 148s 7s/step - loss: 0.9125 - accuracy: 0.5611 - val_loss: 0.5844 - val_accuracy: 0.6989\n",
            "Epoch 7/20\n",
            "20/20 [==============================] - 148s 7s/step - loss: 0.9639 - accuracy: 0.5770 - val_loss: 0.7455 - val_accuracy: 0.5860\n",
            "Epoch 8/20\n",
            "20/20 [==============================] - 148s 7s/step - loss: 0.8054 - accuracy: 0.6409 - val_loss: 0.4021 - val_accuracy: 0.9651\n",
            "Epoch 9/20\n",
            "20/20 [==============================] - 148s 7s/step - loss: 0.6702 - accuracy: 0.7258 - val_loss: 0.2934 - val_accuracy: 0.9651\n",
            "Epoch 10/20\n",
            "20/20 [==============================] - 148s 7s/step - loss: 0.6086 - accuracy: 0.7381 - val_loss: 0.1771 - val_accuracy: 0.9516\n",
            "Epoch 11/20\n",
            "20/20 [==============================] - 147s 7s/step - loss: 0.7552 - accuracy: 0.7194 - val_loss: 0.4361 - val_accuracy: 0.7258\n",
            "Epoch 12/20\n",
            "20/20 [==============================] - 147s 7s/step - loss: 0.4546 - accuracy: 0.8063 - val_loss: 0.1490 - val_accuracy: 0.9731\n",
            "Epoch 13/20\n",
            "20/20 [==============================] - 147s 7s/step - loss: 0.4805 - accuracy: 0.8194 - val_loss: 0.1141 - val_accuracy: 0.9758\n",
            "Epoch 14/20\n",
            "20/20 [==============================] - 147s 7s/step - loss: 0.3623 - accuracy: 0.8615 - val_loss: 0.0503 - val_accuracy: 0.9839\n",
            "Epoch 15/20\n",
            "20/20 [==============================] - 148s 7s/step - loss: 0.3960 - accuracy: 0.8516 - val_loss: 0.1676 - val_accuracy: 0.9731\n",
            "Epoch 16/20\n",
            "20/20 [==============================] - 151s 8s/step - loss: 0.2699 - accuracy: 0.8933 - val_loss: 0.0423 - val_accuracy: 0.9866\n",
            "Epoch 17/20\n",
            "20/20 [==============================] - 149s 7s/step - loss: 0.2732 - accuracy: 0.8913 - val_loss: 0.0666 - val_accuracy: 0.9785\n",
            "Epoch 18/20\n",
            "20/20 [==============================] - 150s 7s/step - loss: 0.2047 - accuracy: 0.9187 - val_loss: 0.1449 - val_accuracy: 0.9409\n",
            "Epoch 19/20\n",
            "20/20 [==============================] - 152s 8s/step - loss: 0.3048 - accuracy: 0.8956 - val_loss: 0.0242 - val_accuracy: 0.9866\n",
            "Epoch 20/20\n",
            "20/20 [==============================] - 153s 8s/step - loss: 0.2179 - accuracy: 0.9214 - val_loss: 0.1040 - val_accuracy: 0.9731\n"
          ],
          "name": "stdout"
        }
      ]
    },
    {
      "cell_type": "code",
      "metadata": {
        "id": "6bQ-2yc3dqCX",
        "colab": {
          "base_uri": "https://localhost:8080/"
        },
        "outputId": "88871f9f-d04c-48b4-ec25-f9309530c6de"
      },
      "source": [
        "#Evaluating BaseLine model\n",
        "test_loss, test_acc = model.evaluate(validation_generator, verbose=1)\n",
        "print('Test Accuracy:', test_acc)\n",
        "print('Test Loss:', test_loss)"
      ],
      "execution_count": null,
      "outputs": [
        {
          "output_type": "stream",
          "text": [
            "3/3 [==============================] - 6s 2s/step - loss: 0.1040 - accuracy: 0.9731\n",
            "Test Accuracy: 0.9731183052062988\n",
            "Test Loss: 0.10402872413396835\n"
          ],
          "name": "stdout"
        }
      ]
    },
    {
      "cell_type": "markdown",
      "metadata": {
        "id": "Cfl6PuykCBSy"
      },
      "source": [
        "###  Plot the Acc and Loss Curve"
      ]
    },
    {
      "cell_type": "code",
      "metadata": {
        "id": "u5WssR8tduTC",
        "colab": {
          "base_uri": "https://localhost:8080/",
          "height": 573
        },
        "outputId": "88995db1-47b2-4642-dd0d-a786bd8c425f"
      },
      "source": [
        "plt.plot(history.history['accuracy'])\n",
        "plt.plot(history.history['val_accuracy'])\n",
        "plt.legend(['train', 'test'], loc='lower right')\n",
        "plt.title('accuracy plot - train vs test')\n",
        "plt.xlabel('epoch')\n",
        "plt.ylabel('accuracy')\n",
        "\n",
        "plt.show()\n",
        "\n",
        "plt.plot(history.history['loss'])\n",
        "plt.plot(history.history['val_loss'])\n",
        "plt.legend(['training loss', 'validation loss'], loc = 'upper right')\n",
        "plt.title('loss plot - training vs validation')\n",
        "plt.xlabel('epoch')\n",
        "plt.ylabel('loss')\n",
        "\n",
        "plt.show()"
      ],
      "execution_count": null,
      "outputs": [
        {
          "output_type": "display_data",
          "data": {
            "image/png": "[encoded data removed]",
            "text/plain": [
              "<Figure size 432x288 with 1 Axes>"
            ]
          },
          "metadata": {
            "tags": [],
            "needs_background": "light"
          }
        },
        {
          "output_type": "display_data",
          "data": {
            "image/png": "[encoded data removed]",
            "text/plain": [
              "<Figure size 432x288 with 1 Axes>"
            ]
          },
          "metadata": {
            "tags": [],
            "needs_background": "light"
          }
        }
      ]
    },
    {
      "cell_type": "markdown",
      "metadata": {
        "id": "qMYEZjqbCHSF"
      },
      "source": [
        "### Saving our Baseline Model"
      ]
    },
    {
      "cell_type": "code",
      "metadata": {
        "colab": {
          "base_uri": "https://localhost:8080/"
        },
        "id": "nW7vmg-udvlW",
        "outputId": "9e9e8810-734c-48b4-c6ef-4390f2d2496f"
      },
      "source": [
        "model.save('rps_model') #for making tflite\n",
        "model.save('rps.h5')"
      ],
      "execution_count": null,
      "outputs": [
        {
          "output_type": "stream",
          "text": [
            "INFO:tensorflow:Assets written to: rps_model/assets\n"
          ],
          "name": "stdout"
        }
      ]
    },
    {
      "cell_type": "code",
      "metadata": {
        "colab": {
          "base_uri": "https://localhost:8080/"
        },
        "id": "zPIpZOpg0Kp4",
        "outputId": "c964d92e-e440-4c9b-d4b8-68766d474081"
      },
      "source": [
        "ls"
      ],
      "execution_count": 17,
      "outputs": [
        {
          "output_type": "stream",
          "text": [
            "model.png  \u001b[0m\u001b[01;34mrps_model\u001b[0m/     rps-test-set.zip    rps.zip.1\n",
            "\u001b[01;34mrps\u001b[0m/       rps.tar.gz     rps-test-set.zip.1  tf_lite_model_rps.tflite\n",
            "rps.h5     \u001b[01;34mrps-test-set\u001b[0m/  rps.zip             tf_lite_quant_model_rps.tflite\n"
          ],
          "name": "stdout"
        }
      ]
    },
    {
      "cell_type": "code",
      "metadata": {
        "id": "_g3fGUfxLufa"
      },
      "source": [
        "from keras.models import load_model"
      ],
      "execution_count": 40,
      "outputs": []
    },
    {
      "cell_type": "code",
      "metadata": {
        "id": "mWv36lJhLjAl"
      },
      "source": [
        "model = training_model() ##\n",
        "model.load_weights('rps.h5')"
      ],
      "execution_count": 47,
      "outputs": []
    },
    {
      "cell_type": "code",
      "metadata": {
        "colab": {
          "base_uri": "https://localhost:8080/"
        },
        "id": "yrGeg5l50PCo",
        "outputId": "7395463e-9c17-49f3-bc49-6649beb2c9f7"
      },
      "source": [
        "model.summary()"
      ],
      "execution_count": 48,
      "outputs": [
        {
          "output_type": "stream",
          "text": [
            "Model: \"sequential_2\"\n",
            "_________________________________________________________________\n",
            "Layer (type)                 Output Shape              Param #   \n",
            "=================================================================\n",
            "conv2d_8 (Conv2D)            (None, 148, 148, 64)      1792      \n",
            "_________________________________________________________________\n",
            "max_pooling2d_8 (MaxPooling2 (None, 74, 74, 64)        0         \n",
            "_________________________________________________________________\n",
            "conv2d_9 (Conv2D)            (None, 72, 72, 64)        36928     \n",
            "_________________________________________________________________\n",
            "max_pooling2d_9 (MaxPooling2 (None, 36, 36, 64)        0         \n",
            "_________________________________________________________________\n",
            "conv2d_10 (Conv2D)           (None, 34, 34, 128)       73856     \n",
            "_________________________________________________________________\n",
            "max_pooling2d_10 (MaxPooling (None, 17, 17, 128)       0         \n",
            "_________________________________________________________________\n",
            "conv2d_11 (Conv2D)           (None, 15, 15, 128)       147584    \n",
            "_________________________________________________________________\n",
            "max_pooling2d_11 (MaxPooling (None, 7, 7, 128)         0         \n",
            "_________________________________________________________________\n",
            "flatten_2 (Flatten)          (None, 6272)              0         \n",
            "_________________________________________________________________\n",
            "dropout_2 (Dropout)          (None, 6272)              0         \n",
            "_________________________________________________________________\n",
            "dense_4 (Dense)              (None, 512)               3211776   \n",
            "_________________________________________________________________\n",
            "dense_5 (Dense)              (None, 3)                 1539      \n",
            "=================================================================\n",
            "Total params: 3,473,475\n",
            "Trainable params: 3,473,475\n",
            "Non-trainable params: 0\n",
            "_________________________________________________________________\n"
          ],
          "name": "stdout"
        }
      ]
    },
    {
      "cell_type": "code",
      "metadata": {
        "colab": {
          "base_uri": "https://localhost:8080/"
        },
        "id": "trIIR67YdxPF",
        "outputId": "a36dafb8-cb83-4767-bccf-bebcaae0de66"
      },
      "source": [
        "!du -lh rps_model"
      ],
      "execution_count": null,
      "outputs": [
        {
          "output_type": "stream",
          "text": [
            "27M\trps_model/variables\n",
            "4.0K\trps_model/assets\n",
            "27M\trps_model\n"
          ],
          "name": "stdout"
        }
      ]
    },
    {
      "cell_type": "code",
      "metadata": {
        "colab": {
          "base_uri": "https://localhost:8080/"
        },
        "id": "yqnDJWvjdy3R",
        "outputId": "20abea2c-b89d-4438-9acc-e0a1fe0a4990"
      },
      "source": [
        "convert_bytes(get_file_size('rps.h5'), \"MB\")"
      ],
      "execution_count": 25,
      "outputs": [
        {
          "output_type": "stream",
          "text": [
            "File Size: 26.557Megabytes\n"
          ],
          "name": "stdout"
        }
      ]
    },
    {
      "cell_type": "code",
      "metadata": {
        "colab": {
          "base_uri": "https://localhost:8080/"
        },
        "id": "ZnHclVShd0To",
        "outputId": "b63549d8-f5e2-4ac2-c6f0-8900ded26f2e"
      },
      "source": [
        "!tar cvf rps.tar.gz rps_model rps.h5"
      ],
      "execution_count": 21,
      "outputs": [
        {
          "output_type": "stream",
          "text": [
            "rps_model/\n",
            "rps_model/variables/\n",
            "rps_model/variables/variables.data-00000-of-00001\n",
            "rps_model/variables/variables.index\n",
            "tar: rps_model/variables: file changed as we read it\n",
            "rps_model/assets/\n",
            "rps_model/saved_model.pb\n",
            "rps_model/keras_metadata.pb\n",
            "rps.h5\n"
          ],
          "name": "stdout"
        }
      ]
    },
    {
      "cell_type": "markdown",
      "metadata": {
        "id": "TlBvzvW8CW_q"
      },
      "source": [
        "### Quantizing our model"
      ]
    },
    {
      "cell_type": "code",
      "metadata": {
        "colab": {
          "base_uri": "https://localhost:8080/"
        },
        "id": "aapI0QL_d12b",
        "outputId": "ff086c01-d31b-429f-c7fa-a339ef1e3a9a"
      },
      "source": [
        "quantize_model = tfmot.quantization.keras.quantize_model\n",
        "\n",
        "# q_aware stands for for quantization aware.\n",
        "q_aware_model = quantize_model(model)\n",
        "\n",
        "# `quantize_model` requires a recompile.\n",
        "q_aware_model.compile(optimizer='rmsprop',\n",
        "              loss='categorical_crossentropy',\n",
        "              metrics=['accuracy'])\n",
        "\n",
        "q_aware_model.summary()"
      ],
      "execution_count": 49,
      "outputs": [
        {
          "output_type": "stream",
          "text": [
            "Model: \"sequential_2\"\n",
            "_________________________________________________________________\n",
            "Layer (type)                 Output Shape              Param #   \n",
            "=================================================================\n",
            "quantize_layer_1 (QuantizeLa (None, 150, 150, 3)       3         \n",
            "_________________________________________________________________\n",
            "quant_conv2d_8 (QuantizeWrap (None, 148, 148, 64)      1923      \n",
            "_________________________________________________________________\n",
            "quant_max_pooling2d_8 (Quant (None, 74, 74, 64)        1         \n",
            "_________________________________________________________________\n",
            "quant_conv2d_9 (QuantizeWrap (None, 72, 72, 64)        37059     \n",
            "_________________________________________________________________\n",
            "quant_max_pooling2d_9 (Quant (None, 36, 36, 64)        1         \n",
            "_________________________________________________________________\n",
            "quant_conv2d_10 (QuantizeWra (None, 34, 34, 128)       74115     \n",
            "_________________________________________________________________\n",
            "quant_max_pooling2d_10 (Quan (None, 17, 17, 128)       1         \n",
            "_________________________________________________________________\n",
            "quant_conv2d_11 (QuantizeWra (None, 15, 15, 128)       147843    \n",
            "_________________________________________________________________\n",
            "quant_max_pooling2d_11 (Quan (None, 7, 7, 128)         1         \n",
            "_________________________________________________________________\n",
            "quant_flatten_2 (QuantizeWra (None, 6272)              1         \n",
            "_________________________________________________________________\n",
            "quant_dropout_2 (QuantizeWra (None, 6272)              1         \n",
            "_________________________________________________________________\n",
            "quant_dense_4 (QuantizeWrapp (None, 512)               3211781   \n",
            "_________________________________________________________________\n",
            "quant_dense_5 (QuantizeWrapp (None, 3)                 1544      \n",
            "=================================================================\n",
            "Total params: 3,474,274\n",
            "Trainable params: 3,473,475\n",
            "Non-trainable params: 799\n",
            "_________________________________________________________________\n"
          ],
          "name": "stdout"
        }
      ]
    },
    {
      "cell_type": "code",
      "metadata": {
        "colab": {
          "base_uri": "https://localhost:8080/"
        },
        "id": "ljzhXGl6d3w3",
        "outputId": "e4636806-467d-4411-f9c5-d7982d04ae53"
      },
      "source": [
        "# Training the quantized model\n",
        "q_aware_model.fit(train_generator, epochs=20, validation_data = validation_generator, batch_size=256)"
      ],
      "execution_count": null,
      "outputs": [
        {
          "output_type": "stream",
          "text": [
            "Epoch 1/20\n",
            "13/20 [==================>...........] - ETA: 4:04 - loss: 0.6519 - accuracy: 0.8233"
          ],
          "name": "stdout"
        }
      ]
    },
    {
      "cell_type": "code",
      "metadata": {
        "id": "MtqJjwctd5j7"
      },
      "source": [
        "#Evaluating the quantized model\n",
        "q_aware_model_loss, q_aware_model_accuracy = q_aware_model.evaluate(validation_generator, verbose=1)\n",
        "print('Quant Test Accuracy:', q_aware_model_accuracy)\n",
        "print('Quant Test Loss:', q_aware_model_loss)"
      ],
      "execution_count": null,
      "outputs": []
    },
    {
      "cell_type": "code",
      "metadata": {
        "id": "p7ZWBnBdd7WI"
      },
      "source": [
        "#Convert the Baseline Model to TF-Lite\n",
        "TF_LITE_MODEL_FILE_NAME = 'tf_lite_model_rps.tflite'\n",
        "\n",
        "tf_lite_converter = tf.lite.TFLiteConverter.from_keras_model(model)\n",
        "tflite_model = tf_lite_converter.convert()\n",
        "\n",
        "tflite_model_name = TF_LITE_MODEL_FILE_NAME\n",
        "open(tflite_model_name, \"wb\").write(tflite_model)"
      ],
      "execution_count": null,
      "outputs": []
    },
    {
      "cell_type": "code",
      "metadata": {
        "id": "xBgjHeuDC78l"
      },
      "source": [
        "#Convert the Quantise Model to TF-Lite\n",
        "TF_LITE_QUANT_MODEL_FILE_NAME = 'tf_lite_quant_model_rps.tflite'\n",
        "\n",
        "tf_lite_converter = tf.lite.TFLiteConverter.from_keras_model(q_aware_model)\n",
        "tf_lite_converter.optimizations = [tf.lite.Optimize.DEFAULT]\n",
        "tflite_model = tf_lite_converter.convert()\n",
        "\n",
        "tflite_model_name = TF_LITE_QUANT_MODEL_FILE_NAME\n",
        "open(tflite_model_name, \"wb\").write(tflite_model)"
      ],
      "execution_count": null,
      "outputs": []
    },
    {
      "cell_type": "code",
      "metadata": {
        "id": "gSqEkgbNd98A"
      },
      "source": [
        "#Calculating the File Size\n",
        "convert_bytes(get_file_size('tf_lite_model_rps.tflite'), \"MB\")\n",
        "convert_bytes(get_file_size('tf_lite_quant_model_rps.tflite'), \"MB\")"
      ],
      "execution_count": null,
      "outputs": []
    },
    {
      "cell_type": "code",
      "metadata": {
        "id": "L0G7Tm75d_ac"
      },
      "source": [
        "images, labels = (next(iter(validation_generator)))"
      ],
      "execution_count": null,
      "outputs": []
    },
    {
      "cell_type": "code",
      "metadata": {
        "id": "_qfyPM5WeAts"
      },
      "source": [
        "print(images.shape)\n",
        "print(images.dtype)"
      ],
      "execution_count": null,
      "outputs": []
    },
    {
      "cell_type": "code",
      "metadata": {
        "id": "f6jXCgMleB_q"
      },
      "source": [
        "#Checking the tensor shape of Baseline model\n",
        "interpreter = tf.lite.Interpreter(model_path = TF_LITE_MODEL_FILE_NAME)\n",
        "input_details = interpreter.get_input_details()\n",
        "output_details = interpreter.get_output_details()\n",
        "\n",
        "print(\"Input Shape:\", input_details[0]['shape'])\n",
        "print(\"Input Type:\", input_details[0]['dtype'])\n",
        "print(\"Output Shape:\", output_details[0]['shape'])\n",
        "print(\"Output Type:\", output_details[0]['dtype'])"
      ],
      "execution_count": null,
      "outputs": []
    },
    {
      "cell_type": "code",
      "metadata": {
        "id": "I4LBN8ileDPT"
      },
      "source": [
        "#Resize the Tensor Shape - Baseline Model\n",
        "interpreter.resize_tensor_input(input_details[0]['index'], (128, 150, 150, 3))\n",
        "interpreter.resize_tensor_input(output_details[0]['index'], (128, 3))\n",
        "interpreter.allocate_tensors()\n",
        "\n",
        "input_details = interpreter.get_input_details()\n",
        "output_details = interpreter.get_output_details()\n",
        "\n",
        "print(\"Input Shape:\", input_details[0]['shape'])\n",
        "print(\"Input Type:\", input_details[0]['dtype'])\n",
        "print(\"Output Shape:\", output_details[0]['shape'])\n",
        "print(\"Output Type:\", output_details[0]['dtype'])"
      ],
      "execution_count": null,
      "outputs": []
    },
    {
      "cell_type": "code",
      "metadata": {
        "colab": {
          "base_uri": "https://localhost:8080/"
        },
        "id": "ngCAKLrUeEqM",
        "outputId": "3a68f681-b987-4b94-b655-365fb3d34e68"
      },
      "source": [
        "#Making Predictions on Baseline TF-Lite Model\n",
        "interpreter.set_tensor(input_details[0]['index'], images)\n",
        "interpreter.invoke()\n",
        "\n",
        "tflite_model_predictions = interpreter.get_tensor(output_details[0]['index'])\n",
        "\n",
        "print(\"Prediction results shape:\", tflite_model_predictions.shape)\n",
        "prediction_classes = np.argmax(tflite_model_predictions, axis=1)\n",
        "expected_classes = np.argmax(labels, axis=1)\n",
        "\n",
        "acc = accuracy_score(prediction_classes, expected_classes)\n",
        "print('Test accuracy TFLITE model :', acc)"
      ],
      "execution_count": null,
      "outputs": [
        {
          "output_type": "stream",
          "text": [
            "Prediction results shape: (128, 3)\n",
            "Test accuracy TFLITE model : 0.9609375\n"
          ],
          "name": "stdout"
        }
      ]
    },
    {
      "cell_type": "code",
      "metadata": {
        "id": "ZfiMd06geGgz"
      },
      "source": [
        "#Check the Tensors Shape - Quantise Model\n",
        "interpreter = tf.lite.Interpreter(model_path = TF_LITE_QUANT_MODEL_FILE_NAME)\n",
        "input_details = interpreter.get_input_details()\n",
        "output_details = interpreter.get_output_details()\n",
        "\n",
        "print(\"Input Shape:\", input_details[0]['shape'])\n",
        "print(\"Input Type:\", input_details[0]['dtype'])\n",
        "print(\"Output Shape:\", output_details[0]['shape'])\n",
        "print(\"Output Type:\", output_details[0]['dtype'])"
      ],
      "execution_count": null,
      "outputs": []
    },
    {
      "cell_type": "code",
      "metadata": {
        "colab": {
          "base_uri": "https://localhost:8080/"
        },
        "id": "Kg07MTHPeIMt",
        "outputId": "fe03ba9f-b520-4413-ecbe-1145cba02be7"
      },
      "source": [
        "#Resize the Tensor Shape - Quantise Model\n",
        "interpreter.resize_tensor_input(input_details[0]['index'], (128, 150, 150, 3))\n",
        "interpreter.resize_tensor_input(output_details[0]['index'], (128, 3))\n",
        "interpreter.allocate_tensors()\n",
        "\n",
        "input_details = interpreter.get_input_details()\n",
        "output_details = interpreter.get_output_details()\n",
        "\n",
        "print(\"Input Shape:\", input_details[0]['shape'])\n",
        "print(\"Input Type:\", input_details[0]['dtype'])\n",
        "print(\"Output Shape:\", output_details[0]['shape'])\n",
        "print(\"Output Type:\", output_details[0]['dtype'])"
      ],
      "execution_count": null,
      "outputs": [
        {
          "output_type": "stream",
          "text": [
            "Input Shape: [128 150 150   3]\n",
            "Input Type: <class 'numpy.float32'>\n",
            "Output Shape: [128   3]\n",
            "Output Type: <class 'numpy.float32'>\n"
          ],
          "name": "stdout"
        }
      ]
    },
    {
      "cell_type": "code",
      "metadata": {
        "colab": {
          "base_uri": "https://localhost:8080/"
        },
        "id": "wNQOCFBNeJhH",
        "outputId": "799bcb7d-2f14-4008-dc38-0fa95abb958f"
      },
      "source": [
        "#Making Predictions on Quantise TF-Lite Model\n",
        "interpreter.set_tensor(input_details[0]['index'], images)\n",
        "interpreter.invoke()\n",
        "\n",
        "tflite_model_predictions = interpreter.get_tensor(output_details[0]['index'])\n",
        "\n",
        "print(\"Prediction results shape:\", tflite_model_predictions.shape)\n",
        "prediction_classes = np.argmax(tflite_model_predictions, axis=1)\n",
        "expected_classes = np.argmax(labels, axis=1)\n",
        "\n",
        "acc = accuracy_score(prediction_classes, expected_classes)\n",
        "print('Test accuracy TFLITE model :', acc)"
      ],
      "execution_count": null,
      "outputs": [
        {
          "output_type": "stream",
          "text": [
            "Prediction results shape: (128, 3)\n",
            "Test accuracy TFLITE model : 0.9375\n"
          ],
          "name": "stdout"
        }
      ]
    },
    {
      "cell_type": "markdown",
      "metadata": {
        "id": "X-9Bv9I5Fa-f"
      },
      "source": [
        "# Result Summary\n",
        "\n",
        "\n",
        "| Configuration          | Baseline Model | Quantised Model |\n",
        "|------------------------|----------------|-----------------|\n",
        "| EPOCHS                 | 20             | 20              |\n",
        "| Model Accuracy         | 85.75%         | 97.84%          |\n",
        "| TF-Lite File Size      | 13.255 MB      | 3.33 MB         |\n",
        "| TF-Lite Model Accuracy | 81.25%         | 96.09%          |"
      ]
    },
    {
      "cell_type": "code",
      "metadata": {
        "id": "u6JEdr41eNZw"
      },
      "source": [
        ""
      ],
      "execution_count": null,
      "outputs": []
    }
  ]
}